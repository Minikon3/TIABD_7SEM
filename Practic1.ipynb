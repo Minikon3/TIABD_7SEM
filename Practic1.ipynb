{
 "cells": [
  {
   "cell_type": "code",
   "execution_count": 1,
   "id": "f708ccc8",
   "metadata": {},
   "outputs": [
    {
     "name": "stdout",
     "output_type": "stream",
     "text": [
      "{'triangle': 25.0}\n",
      "{'rectangle': 32}\n",
      "{'circle': 153.93804002589985}\n"
     ]
    }
   ],
   "source": [
    "import math\n",
    "\n",
    "def calculate_area(shape, **kwargs):\n",
    "    if shape == 'triangle':\n",
    "        base = kwargs.get('base')\n",
    "        height = kwargs.get('height')\n",
    "        if base is not None and height is not None:\n",
    "            area = 0.5 * base * height\n",
    "        else:\n",
    "            return \"Неправильные параметры для треугольника\"\n",
    "    \n",
    "    elif shape == 'rectangle':\n",
    "        length = kwargs.get('length')\n",
    "        width = kwargs.get('width')\n",
    "        if length is not None and width is not None:\n",
    "            area = length * width\n",
    "        else:\n",
    "            return \"Неправильные параметры для прямоугольника\"\n",
    "    \n",
    "    elif shape == 'circle':\n",
    "        radius = kwargs.get('radius')\n",
    "        if radius is not None:\n",
    "            area = math.pi * radius ** 2\n",
    "        else:\n",
    "            return \"Неправильные параметры для круга\"\n",
    "    \n",
    "    else:\n",
    "        return \"Неподдерживаемая фигура\"\n",
    "    \n",
    "    return {shape: area}\n",
    "\n",
    "# Пример использования:\n",
    "triangle_area = calculate_area('triangle', base=10, height=5)\n",
    "rectangle_area = calculate_area('rectangle', length=8, width=4)\n",
    "circle_area = calculate_area('circle', radius=7)\n",
    "\n",
    "print(triangle_area)\n",
    "print(rectangle_area)\n",
    "print(circle_area)"
   ]
  },
  {
   "cell_type": "code",
   "execution_count": 2,
   "id": "5f193cbe",
   "metadata": {},
   "outputs": [
    {
     "name": "stdout",
     "output_type": "stream",
     "text": [
      "13\n",
      "3\n",
      "(10, 5)\n",
      "8\n"
     ]
    }
   ],
   "source": [
    "def calculate(num1, num2, operation):\n",
    "    if operation == '+':\n",
    "        return num1 + num2\n",
    "    elif operation == '-':\n",
    "        return num1 - num2\n",
    "    elif operation == '/':\n",
    "        if num2 != 0:\n",
    "            return num1 / num2\n",
    "        else:\n",
    "            return \"Error: Division by zero\"\n",
    "    elif operation == '//':\n",
    "        if num2 != 0:\n",
    "            return num1 // num2\n",
    "        else:\n",
    "            return \"Error: Division by zero\"\n",
    "    elif operation == 'abs':\n",
    "        return abs(num1), abs(num2)\n",
    "    elif operation == 'pow' or operation == '**':\n",
    "        return pow(num1, num2)\n",
    "    else:\n",
    "        return \"Invalid operation\"\n",
    "\n",
    "# Пример использования:\n",
    "result1 = calculate(10, 3, '+')\n",
    "result2 = calculate(10, 3, '//')\n",
    "result3 = calculate(10, -5, 'abs')\n",
    "result4 = calculate(2, 3, '**')\n",
    "\n",
    "print(result1)\n",
    "print(result2)\n",
    "print(result3)\n",
    "print(result4) "
   ]
  },
  {
   "cell_type": "code",
   "execution_count": 4,
   "id": "362b0c6b",
   "metadata": {},
   "outputs": [
    {
     "name": "stdout",
     "output_type": "stream",
     "text": [
      "Введите число: 12\n",
      "Введите число: -7\n",
      "Введите число: -5\n",
      "Сумма квадратов всех введённых чисел: 218\n"
     ]
    }
   ],
   "source": [
    "def sum_of_squares_until_zero():\n",
    "    numbers = []\n",
    "    total_sum = 0\n",
    "    \n",
    "    while True:\n",
    "        num = int(input(\"Введите число: \"))\n",
    "        numbers.append(num)\n",
    "        total_sum += num\n",
    "        \n",
    "        if total_sum == 0:\n",
    "            break\n",
    "    \n",
    "    # Вычисление суммы квадратов\n",
    "    sum_of_squares = sum(x**2 for x in numbers)\n",
    "    \n",
    "    print(f\"Сумма квадратов всех введённых чисел: {sum_of_squares}\")\n",
    "\n",
    "sum_of_squares_until_zero()"
   ]
  },
  {
   "cell_type": "code",
   "execution_count": 5,
   "id": "ecd6f1c1",
   "metadata": {},
   "outputs": [
    {
     "name": "stdout",
     "output_type": "stream",
     "text": [
      "Введите число N: 7\n",
      "1 2 2 3 3 3 4\n"
     ]
    }
   ],
   "source": [
    "def generate_sequence(N):\n",
    "    sequence = []\n",
    "    for i in range(1, N + 1):\n",
    "        sequence.extend([i] * i)  # Добавляем число i в список i раз\n",
    "        if len(sequence) >= N:  # Останавливаем, если длина последовательности >= N\n",
    "            break\n",
    "    \n",
    "    # Обрезаем список до длины N\n",
    "    sequence = sequence[:N]\n",
    "    \n",
    "    # Выводим последовательность через пробел\n",
    "    print(*sequence)\n",
    "\n",
    "N = int(input(\"Введите число N: \"))\n",
    "generate_sequence(N)"
   ]
  },
  {
   "cell_type": "code",
   "execution_count": 6,
   "id": "d94a82dc",
   "metadata": {},
   "outputs": [
    {
     "name": "stdout",
     "output_type": "stream",
     "text": [
      "{'a': 17, 'b': 11, 'c': 17}\n"
     ]
    }
   ],
   "source": [
    "from collections import defaultdict\n",
    "\n",
    "# Данные\n",
    "A = [1, 2, 3, 4, 2, 1, 3, 4, 5, 6, 5, 4, 3, 2]\n",
    "B = ['a', 'b', 'c', 'c', 'c', 'b', 'a', 'c', 'a', 'a', 'b', 'c', 'b', 'a']\n",
    "\n",
    "# Создание словаря с суммами\n",
    "result = defaultdict(int)\n",
    "\n",
    "for a, b in zip(A, B):\n",
    "    result[b] += a\n",
    "\n",
    "# Преобразуем defaultdict в обычный словарь и выводим результат\n",
    "result = dict(result)\n",
    "print(result)"
   ]
  },
  {
   "cell_type": "code",
   "execution_count": 7,
   "id": "0d6cc496",
   "metadata": {},
   "outputs": [
    {
     "name": "stdout",
     "output_type": "stream",
     "text": [
      "   MedInc  HouseAge  AveRooms  AveBedrms  Population  AveOccup  Latitude  \\\n",
      "0  8.3252      41.0  6.984127   1.023810       322.0  2.555556     37.88   \n",
      "1  8.3014      21.0  6.238137   0.971880      2401.0  2.109842     37.86   \n",
      "2  7.2574      52.0  8.288136   1.073446       496.0  2.802260     37.85   \n",
      "3  5.6431      52.0  5.817352   1.073059       558.0  2.547945     37.85   \n",
      "4  3.8462      52.0  6.281853   1.081081       565.0  2.181467     37.85   \n",
      "\n",
      "   Longitude  MedHouseVal  \n",
      "0    -122.23        4.526  \n",
      "1    -122.22        3.585  \n",
      "2    -122.24        3.521  \n",
      "3    -122.25        3.413  \n",
      "4    -122.25        3.422  \n"
     ]
    }
   ],
   "source": [
    "from sklearn.datasets import fetch_california_housing\n",
    "\n",
    "# Загрузка данных\n",
    "data = fetch_california_housing(as_frame=True)\n",
    "\n",
    "# Доступ к данным\n",
    "df = data.frame\n",
    "\n",
    "# Печать первых строк данных\n",
    "print(df.head())"
   ]
  },
  {
   "cell_type": "code",
   "execution_count": 8,
   "id": "42471045",
   "metadata": {},
   "outputs": [
    {
     "name": "stdout",
     "output_type": "stream",
     "text": [
      "<class 'pandas.core.frame.DataFrame'>\n",
      "RangeIndex: 20640 entries, 0 to 20639\n",
      "Data columns (total 9 columns):\n",
      " #   Column       Non-Null Count  Dtype  \n",
      "---  ------       --------------  -----  \n",
      " 0   MedInc       20640 non-null  float64\n",
      " 1   HouseAge     20640 non-null  float64\n",
      " 2   AveRooms     20640 non-null  float64\n",
      " 3   AveBedrms    20640 non-null  float64\n",
      " 4   Population   20640 non-null  float64\n",
      " 5   AveOccup     20640 non-null  float64\n",
      " 6   Latitude     20640 non-null  float64\n",
      " 7   Longitude    20640 non-null  float64\n",
      " 8   MedHouseVal  20640 non-null  float64\n",
      "dtypes: float64(9)\n",
      "memory usage: 1.4 MB\n"
     ]
    }
   ],
   "source": [
    "from sklearn.datasets import fetch_california_housing\n",
    "\n",
    "data = fetch_california_housing(as_frame=True)\n",
    "\n",
    "df = data.frame\n",
    "\n",
    "# Использование метода info() для получения информации о структуре DataFrame\n",
    "df.info()"
   ]
  },
  {
   "cell_type": "code",
   "execution_count": 9,
   "id": "752f3006",
   "metadata": {},
   "outputs": [
    {
     "name": "stdout",
     "output_type": "stream",
     "text": [
      "MedInc         0\n",
      "HouseAge       0\n",
      "AveRooms       0\n",
      "AveBedrms      0\n",
      "Population     0\n",
      "AveOccup       0\n",
      "Latitude       0\n",
      "Longitude      0\n",
      "MedHouseVal    0\n",
      "dtype: int64\n"
     ]
    }
   ],
   "source": [
    "from sklearn.datasets import fetch_california_housing\n",
    "\n",
    "# Загрузка данных\n",
    "data = fetch_california_housing(as_frame=True)\n",
    "\n",
    "# Доступ к DataFrame\n",
    "df = data.frame\n",
    "\n",
    "# Проверка на пропущенные значения\n",
    "missing_values = df.isna().sum()\n",
    "\n",
    "# Вывод количества пропущенных значений в каждом столбце\n",
    "print(missing_values)"
   ]
  },
  {
   "cell_type": "code",
   "execution_count": 10,
   "id": "4f8df4c1",
   "metadata": {},
   "outputs": [
    {
     "name": "stdout",
     "output_type": "stream",
     "text": [
      "       MedInc  HouseAge  AveRooms  AveBedrms  Population    AveOccup  \\\n",
      "460    1.4012      52.0  3.105714   1.060000      3337.0    9.534286   \n",
      "4131   3.5349      52.0  4.646119   1.047945      2589.0    5.910959   \n",
      "4440   2.6806      52.0  4.806283   1.057592      3062.0    4.007853   \n",
      "5986   1.8750      52.0  4.500000   1.206349      2688.0   21.333333   \n",
      "7369   3.1901      52.0  4.730942   1.017937      3731.0    4.182735   \n",
      "8227   2.3305      52.0  3.488860   1.170380      3018.0    3.955439   \n",
      "13034  6.1359      52.0  8.275862   1.517241      6675.0  230.172414   \n",
      "15634  1.8295      52.0  2.628169   1.053521      2957.0    4.164789   \n",
      "15652  0.9000      52.0  2.237474   1.053535      3260.0    2.237474   \n",
      "15657  2.5166      52.0  2.839075   1.184049      3436.0    1.621520   \n",
      "15659  1.7240      52.0  2.278566   1.082348      4518.0    1.780142   \n",
      "15795  2.5755      52.0  3.402576   1.058776      2619.0    2.108696   \n",
      "15868  2.8135      52.0  4.584329   1.041169      2987.0    3.966799   \n",
      "\n",
      "       Latitude  Longitude  MedHouseVal  \n",
      "460       37.87    -122.26      1.75000  \n",
      "4131      34.13    -118.20      1.93600  \n",
      "4440      34.08    -118.21      1.53000  \n",
      "5986      34.10    -117.71      2.12500  \n",
      "7369      33.97    -118.21      1.67600  \n",
      "8227      33.78    -118.20      1.62500  \n",
      "13034     38.69    -121.15      2.25000  \n",
      "15634     37.80    -122.41      2.43800  \n",
      "15652     37.80    -122.41      5.00001  \n",
      "15657     37.79    -122.41      2.75000  \n",
      "15659     37.79    -122.41      2.25000  \n",
      "15795     37.77    -122.42      3.25000  \n",
      "15868     37.76    -122.41      2.60300  \n"
     ]
    }
   ],
   "source": [
    "from sklearn.datasets import fetch_california_housing\n",
    "\n",
    "data = fetch_california_housing(as_frame=True)\n",
    "\n",
    "df = data.frame\n",
    "\n",
    "# Фильтрация записей с помощью loc[]\n",
    "filtered_df = df.loc[(df['HouseAge'] > 50) & (df['Population'] > 2500)]\n",
    "\n",
    "print(filtered_df)"
   ]
  },
  {
   "cell_type": "code",
   "execution_count": 11,
   "id": "d57e76bf",
   "metadata": {},
   "outputs": [
    {
     "name": "stdout",
     "output_type": "stream",
     "text": [
      "Максимальная медианная стоимость дома: 5.00001\n",
      "Минимальная медианная стоимость дома: 0.14999\n"
     ]
    }
   ],
   "source": [
    "from sklearn.datasets import fetch_california_housing\n",
    "\n",
    "data = fetch_california_housing(as_frame=True)\n",
    "\n",
    "df = data.frame\n",
    "\n",
    "# Определение максимального и минимального значения медианной стоимости дома\n",
    "max_value = df['MedHouseVal'].max()\n",
    "min_value = df['MedHouseVal'].min()\n",
    "\n",
    "print(f\"Максимальная медианная стоимость дома: {max_value}\")\n",
    "print(f\"Минимальная медианная стоимость дома: {min_value}\")"
   ]
  },
  {
   "cell_type": "code",
   "execution_count": 12,
   "id": "bba6d04b",
   "metadata": {},
   "outputs": [
    {
     "name": "stdout",
     "output_type": "stream",
     "text": [
      "MedInc: 3.8706710029069766\n",
      "HouseAge: 28.639486434108527\n",
      "AveRooms: 5.428999742190376\n",
      "AveBedrms: 1.096675149606208\n",
      "Population: 1425.4767441860465\n",
      "AveOccup: 3.0706551594363742\n",
      "Latitude: 35.63186143410853\n",
      "Longitude: -119.56970445736432\n",
      "MedHouseVal: 2.068558169089147\n"
     ]
    }
   ],
   "source": [
    "from sklearn.datasets import fetch_california_housing\n",
    "\n",
    "data = fetch_california_housing(as_frame=True)\n",
    "\n",
    "df = data.frame\n",
    "\n",
    "# Применение метода apply() для вычисления среднего значения по каждому столбцу\n",
    "means = df.apply(lambda x: x.mean())\n",
    "\n",
    "# Вывод названия признака и его среднего значения\n",
    "for column, mean_value in means.items():\n",
    "    print(f\"{column}: {mean_value}\")"
   ]
  },
  {
   "cell_type": "code",
   "execution_count": 11,
   "id": "8ee890f6",
   "metadata": {},
   "outputs": [
    {
     "name": "stdout",
     "output_type": "stream",
     "text": [
      "Введите текст на английском: Hello i am Kirill\n",
      ".... . .-.. .-.. ---\n",
      "..\n",
      ".- --\n",
      "-.- .. .-. .. .-.. .-..\n"
     ]
    }
   ],
   "source": [
    "# Словарь соответствия латинских букв коду Морзе\n",
    "morze = {\n",
    "    'a': '.-', 'b': '-...', 'c': '-.-.', 'd': '-..',\n",
    "    'e': '.', 'f': '..-.', 'g': '--.', 'h': '....',\n",
    "    'i': '..', 'j': '.---', 'k': '-.-', 'l': '.-..',\n",
    "    'm': '--', 'n': '-.', 'o': '---', 'p': '.--.',\n",
    "    'q': '--.-', 'r': '.-.', 's': '...', 't': '-',\n",
    "    'u': '..-', 'v': '...-', 'w': '.--', 'x': '-..-',\n",
    "    'y': '-.--', 'z': '--..'\n",
    "}\n",
    "\n",
    "# Ввод текста\n",
    "input_text = input(\"Введите текст на английском: \")\n",
    "\n",
    "# Разделяем текст на слова и кодируем каждое слово\n",
    "for word in input_text.split():\n",
    "    morse_word = ' '.join(morze[char.lower()] for char in word if char.lower() in morze)\n",
    "    print(morse_word)\n",
    "\n"
   ]
  },
  {
   "cell_type": "code",
   "execution_count": 3,
   "id": "a8c827ed",
   "metadata": {},
   "outputs": [
    {
     "name": "stdout",
     "output_type": "stream",
     "text": [
      "5\n",
      "kgfd\n",
      "kgfd\n",
      "kgfd\n",
      "weq\n",
      "rwe\n",
      "OK\n",
      "kgfd1\n",
      "kgfd2\n",
      "OK\n",
      "OK\n"
     ]
    }
   ],
   "source": [
    "def registration_system(n, requests):\n",
    "    user_db = {}\n",
    "    results = []\n",
    "\n",
    "    for name in requests:\n",
    "        if name not in user_db:\n",
    "            # Имя не существует, регистрируем его\n",
    "            user_db[name] = 1\n",
    "            results.append(\"OK\")\n",
    "        else:\n",
    "            # Имя занято, ищем доступный вариант\n",
    "            new_name_index = user_db[name]  # текущее количество имен с базовым именем\n",
    "            while f\"{name}{new_name_index}\" in user_db:\n",
    "                new_name_index += 1\n",
    "            # Регистрируем новое имя\n",
    "            new_name = f\"{name}{new_name_index}\"\n",
    "            user_db[new_name] = 1\n",
    "            user_db[name] = new_name_index + 1  # обновляем счетчик для основного имени\n",
    "            results.append(new_name)\n",
    "\n",
    "    return results\n",
    "\n",
    "\n",
    "# Ввод данных\n",
    "n = int(input())\n",
    "requests = [input().strip() for _ in range(n)]\n",
    "\n",
    "# Получение результатов\n",
    "results = registration_system(n, requests)\n",
    "\n",
    "# Вывод результатов\n",
    "for result in results:\n",
    "    print(result)"
   ]
  },
  {
   "cell_type": "code",
   "execution_count": 9,
   "id": "964dd936",
   "metadata": {},
   "outputs": [
    {
     "name": "stdout",
     "output_type": "stream",
     "text": [
      "2\n",
      "boot.exe r w\n",
      "book.txt x\n",
      "2\n",
      "execute book.txt\n",
      "read book.txt\n",
      "OK\n",
      "Access denied\n"
     ]
    }
   ],
   "source": [
    "def process_file_requests(n, file_permissions, m, requests):\n",
    "    # Словарь для \"соединения\" краткий и длинных названий операций\n",
    "    operation_map = {\n",
    "        'read': 'r',\n",
    "        'write': 'w',\n",
    "        'execute': 'x'\n",
    "    }\n",
    "    \n",
    "    # Создаем словарь для хранения разрешений на файлы\n",
    "    permissions = {}\n",
    "\n",
    "    # Заполняем словарь разрешениями\n",
    "    for entry in file_permissions:\n",
    "        parts = entry.split()\n",
    "        filename = parts[0]\n",
    "        actions = set(parts[1:])  # используем set для поиска\n",
    "        permissions[filename] = actions\n",
    "\n",
    "    # Обрабатываем запросы\n",
    "    results = []\n",
    "    for request in requests:\n",
    "        action_short, filename = request.split()\n",
    "        action_full = operation_map.get(action_short)  # Получаем полное название операции\n",
    "        \n",
    "        if filename in permissions and action_full in permissions[filename]:\n",
    "            results.append(\"OK\")\n",
    "        else:\n",
    "            results.append(\"Access denied\")\n",
    "\n",
    "    return results\n",
    "\n",
    "\n",
    "# Ввод данных\n",
    "n = int(input())  # Число файлов\n",
    "file_permissions = [input().strip() for _ in range(n)]  # Строки с именем файла и правами\n",
    "m = int(input())  # Число запросов\n",
    "requests = [input().strip() for _ in range(m)]  # Строки с запросами\n",
    "\n",
    "# Получение результатов обработки запросов\n",
    "results = process_file_requests(n, file_permissions, m, requests)\n",
    "\n",
    "# Вывод результатов\n",
    "for result in results:\n",
    "    print(result)"
   ]
  },
  {
   "cell_type": "code",
   "execution_count": null,
   "id": "ca4ca561",
   "metadata": {},
   "outputs": [],
   "source": []
  }
 ],
 "metadata": {
  "kernelspec": {
   "display_name": "Python 3 (ipykernel)",
   "language": "python",
   "name": "python3"
  },
  "language_info": {
   "codemirror_mode": {
    "name": "ipython",
    "version": 3
   },
   "file_extension": ".py",
   "mimetype": "text/x-python",
   "name": "python",
   "nbconvert_exporter": "python",
   "pygments_lexer": "ipython3",
   "version": "3.11.5"
  }
 },
 "nbformat": 4,
 "nbformat_minor": 5
}
