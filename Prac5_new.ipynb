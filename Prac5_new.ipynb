{
 "cells": [
  {
   "cell_type": "code",
   "execution_count": 6,
   "id": "970fcbaf-7ecc-4ae1-946f-1c0d5ac3df41",
   "metadata": {},
   "outputs": [
    {
     "name": "stdout",
     "output_type": "stream",
     "text": [
      "  species     island  bill_length_mm  bill_depth_mm  flipper_length_mm  \\\n",
      "0  Adelie  Torgersen            39.1           18.7              181.0   \n",
      "1  Adelie  Torgersen            39.5           17.4              186.0   \n",
      "2  Adelie  Torgersen            40.3           18.0              195.0   \n",
      "3  Adelie  Torgersen             NaN            NaN                NaN   \n",
      "4  Adelie  Torgersen            36.7           19.3              193.0   \n",
      "\n",
      "   body_mass_g     sex  \n",
      "0       3750.0    Male  \n",
      "1       3800.0  Female  \n",
      "2       3250.0  Female  \n",
      "3          NaN     NaN  \n",
      "4       3450.0  Female  \n",
      "species               0\n",
      "island                0\n",
      "bill_length_mm        2\n",
      "bill_depth_mm         2\n",
      "flipper_length_mm     2\n",
      "body_mass_g           2\n",
      "sex                  11\n",
      "dtype: int64\n"
     ]
    }
   ],
   "source": [
    "import seaborn as sns\n",
    "import pandas as pd\n",
    "\n",
    "# Загрузка данных о пингвинах\n",
    "penguins = sns.load_dataset('penguins')\n",
    "\n",
    "# Просмотр первых строк данных\n",
    "print(penguins.head())\n",
    "\n",
    "# Проверка на пропущенные значения\n",
    "print(penguins.isnull().sum())\n"
   ]
  },
  {
   "cell_type": "code",
   "execution_count": 7,
   "id": "e4f2bae2-3ce0-47a5-8b2d-a83fe9a95f92",
   "metadata": {},
   "outputs": [
    {
     "data": {
      "image/png": "[encoded data removed]",
      "text/plain": [
       "<Figure size 640x480 with 1 Axes>"
      ]
     },
     "metadata": {},
     "output_type": "display_data"
    }
   ],
   "source": [
    "import matplotlib.pyplot as plt\n",
    "\n",
    "# Построение гистограммы\n",
    "sns.countplot(data=penguins, x='species')\n",
    "plt.title('Баланс классов по видам пингвинов')\n",
    "plt.xlabel('Вид')\n",
    "plt.ylabel('Количество')\n",
    "plt.show()"
   ]
  },
  {
   "cell_type": "code",
   "execution_count": 8,
   "id": "f477522a-93fe-4589-a93e-1d59a0b12d1a",
   "metadata": {},
   "outputs": [],
   "source": [
    "from sklearn.model_selection import train_test_split\n",
    "\n",
    "# Удаление строк с пропущенными значениями\n",
    "penguins = penguins.dropna()\n",
    "\n",
    "# Определение признаков и целевой переменной\n",
    "X = penguins.drop('species', axis=1).select_dtypes(exclude='object')\n",
    "y = penguins['species']\n",
    "\n",
    "# Разделение на тренировочную и тестовую выборки\n",
    "X_train, X_test, y_train, y_test = train_test_split(X, y, test_size=0.2, random_state=42)"
   ]
  },
  {
   "cell_type": "code",
   "execution_count": 14,
   "id": "2841b2cc-6aee-48b3-9e5e-bebeba149944",
   "metadata": {},
   "outputs": [
    {
     "name": "stdout",
     "output_type": "stream",
     "text": [
      "Confusion Matrix for Logistic Regression:\n",
      "[[30  1  0]\n",
      " [ 0 13  0]\n",
      " [ 0  0 23]]\n",
      "\n",
      "Confusion Matrix for SVM:\n",
      "[[29  0  2]\n",
      " [13  0  0]\n",
      " [ 3  0 20]]\n",
      "\n",
      "Confusion Matrix for KNN:\n",
      "[[25  2  4]\n",
      " [ 5  8  0]\n",
      " [ 0  1 22]]\n",
      "\n"
     ]
    }
   ],
   "source": [
    "from sklearn.linear_model import LogisticRegression\n",
    "from sklearn.svm import SVC\n",
    "from sklearn.neighbors import KNeighborsClassifier\n",
    "from sklearn.metrics import confusion_matrix\n",
    "\n",
    "# Инициализация моделей\n",
    "models = {\n",
    "    'Logistic Regression': LogisticRegression(max_iter=10000),\n",
    "    'SVM': SVC(),\n",
    "    'KNN': KNeighborsClassifier()\n",
    "}\n",
    "\n",
    "# Обучение моделей и построение матриц ошибок\n",
    "for model_name, model in models.items():\n",
    "    model.fit(X_train, y_train)\n",
    "    y_pred = model.predict(X_test)\n",
    "    \n",
    "    cm = confusion_matrix(y_test, y_pred)\n",
    "    print(f'Confusion Matrix for {model_name}:\\n{cm}\\n')\n"
   ]
  },
  {
   "cell_type": "code",
   "execution_count": 16,
   "id": "7a2ad4c0-dab7-4aad-8e90-229883bd3065",
   "metadata": {},
   "outputs": [
    {
     "name": "stdout",
     "output_type": "stream",
     "text": [
      "Classification Report for Logistic Regression:\n",
      "              precision    recall  f1-score   support\n",
      "\n",
      "      Adelie       1.00      0.97      0.98        31\n",
      "   Chinstrap       0.93      1.00      0.96        13\n",
      "      Gentoo       1.00      1.00      1.00        23\n",
      "\n",
      "    accuracy                           0.99        67\n",
      "   macro avg       0.98      0.99      0.98        67\n",
      "weighted avg       0.99      0.99      0.99        67\n",
      "\n",
      "\n",
      "Classification Report for SVM:\n",
      "              precision    recall  f1-score   support\n",
      "\n",
      "      Adelie       0.64      0.94      0.76        31\n",
      "   Chinstrap       0.00      0.00      0.00        13\n",
      "      Gentoo       0.91      0.87      0.89        23\n",
      "\n",
      "    accuracy                           0.73        67\n",
      "   macro avg       0.52      0.60      0.55        67\n",
      "weighted avg       0.61      0.73      0.66        67\n",
      "\n",
      "\n",
      "Classification Report for KNN:\n",
      "              precision    recall  f1-score   support\n",
      "\n",
      "      Adelie       0.83      0.81      0.82        31\n",
      "   Chinstrap       0.73      0.62      0.67        13\n",
      "      Gentoo       0.85      0.96      0.90        23\n",
      "\n",
      "    accuracy                           0.82        67\n",
      "   macro avg       0.80      0.79      0.79        67\n",
      "weighted avg       0.82      0.82      0.82        67\n",
      "\n",
      "\n"
     ]
    }
   ],
   "source": [
    "from sklearn.metrics import classification_report\n",
    "\n",
    "for model_name, model in models.items():\n",
    "    y_pred = model.predict(X_test)\n",
    "    print(f'Classification Report for {model_name}:\\n{classification_report(y_test, y_pred, zero_division=0)}\\n')"
   ]
  },
  {
   "cell_type": "code",
   "execution_count": null,
   "id": "e2a18bba-8c81-4283-8992-50f640aff252",
   "metadata": {},
   "outputs": [],
   "source": []
  }
 ],
 "metadata": {
  "kernelspec": {
   "display_name": "Python 3 (ipykernel)",
   "language": "python",
   "name": "python3"
  },
  "language_info": {
   "codemirror_mode": {
    "name": "ipython",
    "version": 3
   },
   "file_extension": ".py",
   "mimetype": "text/x-python",
   "name": "python",
   "nbconvert_exporter": "python",
   "pygments_lexer": "ipython3",
   "version": "3.12.6"
  }
 },
 "nbformat": 4,
 "nbformat_minor": 5
}
