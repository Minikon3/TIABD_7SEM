{
 "cells": [
  {
   "cell_type": "code",
   "execution_count": 1,
   "id": "d2a577e6",
   "metadata": {},
   "outputs": [
    {
     "data": {
      "text/html": [
       "<div>\n",
       "<style scoped>\n",
       "    .dataframe tbody tr th:only-of-type {\n",
       "        vertical-align: middle;\n",
       "    }\n",
       "\n",
       "    .dataframe tbody tr th {\n",
       "        vertical-align: top;\n",
       "    }\n",
       "\n",
       "    .dataframe thead th {\n",
       "        text-align: right;\n",
       "    }\n",
       "</style>\n",
       "<table border=\"1\" class=\"dataframe\">\n",
       "  <thead>\n",
       "    <tr style=\"text-align: right;\">\n",
       "      <th></th>\n",
       "      <th>species</th>\n",
       "      <th>island</th>\n",
       "      <th>bill_length_mm</th>\n",
       "      <th>bill_depth_mm</th>\n",
       "      <th>flipper_length_mm</th>\n",
       "      <th>body_mass_g</th>\n",
       "      <th>sex</th>\n",
       "    </tr>\n",
       "  </thead>\n",
       "  <tbody>\n",
       "    <tr>\n",
       "      <th>0</th>\n",
       "      <td>0</td>\n",
       "      <td>Torgersen</td>\n",
       "      <td>39.1</td>\n",
       "      <td>18.7</td>\n",
       "      <td>181.0</td>\n",
       "      <td>3750.0</td>\n",
       "      <td>Male</td>\n",
       "    </tr>\n",
       "    <tr>\n",
       "      <th>1</th>\n",
       "      <td>0</td>\n",
       "      <td>Torgersen</td>\n",
       "      <td>39.5</td>\n",
       "      <td>17.4</td>\n",
       "      <td>186.0</td>\n",
       "      <td>3800.0</td>\n",
       "      <td>Female</td>\n",
       "    </tr>\n",
       "    <tr>\n",
       "      <th>2</th>\n",
       "      <td>0</td>\n",
       "      <td>Torgersen</td>\n",
       "      <td>40.3</td>\n",
       "      <td>18.0</td>\n",
       "      <td>195.0</td>\n",
       "      <td>3250.0</td>\n",
       "      <td>Female</td>\n",
       "    </tr>\n",
       "    <tr>\n",
       "      <th>4</th>\n",
       "      <td>0</td>\n",
       "      <td>Torgersen</td>\n",
       "      <td>36.7</td>\n",
       "      <td>19.3</td>\n",
       "      <td>193.0</td>\n",
       "      <td>3450.0</td>\n",
       "      <td>Female</td>\n",
       "    </tr>\n",
       "    <tr>\n",
       "      <th>5</th>\n",
       "      <td>0</td>\n",
       "      <td>Torgersen</td>\n",
       "      <td>39.3</td>\n",
       "      <td>20.6</td>\n",
       "      <td>190.0</td>\n",
       "      <td>3650.0</td>\n",
       "      <td>Male</td>\n",
       "    </tr>\n",
       "  </tbody>\n",
       "</table>\n",
       "</div>"
      ],
      "text/plain": [
       "   species     island  bill_length_mm  bill_depth_mm  flipper_length_mm  \\\n",
       "0        0  Torgersen            39.1           18.7              181.0   \n",
       "1        0  Torgersen            39.5           17.4              186.0   \n",
       "2        0  Torgersen            40.3           18.0              195.0   \n",
       "4        0  Torgersen            36.7           19.3              193.0   \n",
       "5        0  Torgersen            39.3           20.6              190.0   \n",
       "\n",
       "   body_mass_g     sex  \n",
       "0       3750.0    Male  \n",
       "1       3800.0  Female  \n",
       "2       3250.0  Female  \n",
       "4       3450.0  Female  \n",
       "5       3650.0    Male  "
      ]
     },
     "execution_count": 1,
     "metadata": {},
     "output_type": "execute_result"
    }
   ],
   "source": [
    "# Импортируем необходимые библиотеки\n",
    "import seaborn as sns\n",
    "import pandas as pd\n",
    "import numpy as np\n",
    "from sklearn.model_selection import train_test_split\n",
    "from sklearn.preprocessing import LabelEncoder\n",
    "\n",
    "# Загружаем датасет пингвинов\n",
    "penguins = sns.load_dataset('penguins')\n",
    "\n",
    "# Удаляем строки с отсутствующими значениями\n",
    "penguins = penguins.dropna()\n",
    "\n",
    "# Кодируем категориальные переменные\n",
    "le_species = LabelEncoder()\n",
    "penguins['species'] = le_species.fit_transform(penguins['species'])\n",
    "\n",
    "# Выбираем признаки и целевую переменную\n",
    "X = penguins.drop(columns=['species', 'island', 'sex'])\n",
    "y = penguins['species']\n",
    "\n",
    "# Разделяем данные на обучающую и тестовую выборки\n",
    "X_train, X_test, y_train, y_test = train_test_split(X, y, test_size=0.3, random_state=42)\n",
    "\n",
    "# Выводим пример данных\n",
    "penguins.head()"
   ]
  },
  {
   "cell_type": "code",
   "execution_count": 2,
   "id": "9543a4d1",
   "metadata": {},
   "outputs": [
    {
     "name": "stdout",
     "output_type": "stream",
     "text": [
      "Баггинг: точность = 0.9900, время работы = 0.1243 сек\n"
     ]
    }
   ],
   "source": [
    "# Импортируем библиотеку для баггинга\n",
    "from sklearn.ensemble import BaggingClassifier\n",
    "from sklearn.metrics import accuracy_score\n",
    "import time\n",
    "\n",
    "# Баггинг\n",
    "start_time_bagging = time.time()\n",
    "bagging = BaggingClassifier(n_estimators=100, random_state=42)\n",
    "bagging.fit(X_train, y_train)\n",
    "y_pred_bagging = bagging.predict(X_test)\n",
    "accuracy_bagging = accuracy_score(y_test, y_pred_bagging)\n",
    "end_time_bagging = time.time()\n",
    "bagging_time = end_time_bagging - start_time_bagging\n",
    "\n",
    "# Выводим результаты баггинга\n",
    "print(f\"Баггинг: точность = {accuracy_bagging:.4f}, время работы = {bagging_time:.4f} сек\")"
   ]
  },
  {
   "cell_type": "code",
   "execution_count": 3,
   "id": "5b663464",
   "metadata": {},
   "outputs": [
    {
     "name": "stdout",
     "output_type": "stream",
     "text": [
      "Бустинг: точность = 0.9900, время работы = 0.2471 сек\n"
     ]
    }
   ],
   "source": [
    "# Импортируем библиотеку для бустинга\n",
    "from sklearn.ensemble import GradientBoostingClassifier\n",
    "\n",
    "# Бустинг\n",
    "start_time_boosting = time.time()\n",
    "boosting = GradientBoostingClassifier(n_estimators=100, random_state=42)\n",
    "boosting.fit(X_train, y_train)\n",
    "y_pred_boosting = boosting.predict(X_test)\n",
    "accuracy_boosting = accuracy_score(y_test, y_pred_boosting)\n",
    "end_time_boosting = time.time()\n",
    "boosting_time = end_time_boosting - start_time_boosting\n",
    "\n",
    "# Выводим результаты бустинга\n",
    "print(f\"Бустинг: точность = {accuracy_boosting:.4f}, время работы = {boosting_time:.4f} сек\")"
   ]
  },
  {
   "cell_type": "code",
   "execution_count": 5,
   "id": "fb96319c",
   "metadata": {},
   "outputs": [
    {
     "name": "stdout",
     "output_type": "stream",
     "text": [
      "Баггинг: точность = 0.9900, время работы = 0.1243 сек\n",
      "Бустинг: точность = 0.9900, время работы = 0.2471 сек\n",
      "Точность моделей одинаковая: 0.9900\n",
      "Баггинг быстрее: 0.1243 сек против 0.2471 сек\n"
     ]
    }
   ],
   "source": [
    "# Сравнение результатов по точности и времени\n",
    "print(f\"Баггинг: точность = {accuracy_bagging:.4f}, время работы = {bagging_time:.4f} сек\")\n",
    "print(f\"Бустинг: точность = {accuracy_boosting:.4f}, время работы = {boosting_time:.4f} сек\")\n",
    "\n",
    "# Сравниваем по точности\n",
    "if accuracy_bagging > accuracy_boosting:\n",
    "    print(f\"Баггинг показал лучшую точность: {accuracy_bagging:.4f} против {accuracy_boosting:.4f}\")\n",
    "elif accuracy_boosting > accuracy_bagging:\n",
    "    print(f\"Бустинг показал лучшую точность: {accuracy_boosting:.4f} против {accuracy_bagging:.4f}\")\n",
    "else:\n",
    "    print(f\"Точность моделей одинаковая: {accuracy_bagging:.4f}\")\n",
    "\n",
    "# Сравниваем по времени\n",
    "if bagging_time < boosting_time:\n",
    "    print(f\"Баггинг быстрее: {bagging_time:.4f} сек против {boosting_time:.4f} сек\")\n",
    "else:\n",
    "    print(f\"Бустинг быстрее: {boosting_time:.4f} сек против {bagging_time:.4f} сек\")"
   ]
  },
  {
   "cell_type": "code",
   "execution_count": null,
   "id": "7cabf34f",
   "metadata": {},
   "outputs": [],
   "source": []
  }
 ],
 "metadata": {
  "kernelspec": {
   "display_name": "Python 3 (ipykernel)",
   "language": "python",
   "name": "python3"
  },
  "language_info": {
   "codemirror_mode": {
    "name": "ipython",
    "version": 3
   },
   "file_extension": ".py",
   "mimetype": "text/x-python",
   "name": "python",
   "nbconvert_exporter": "python",
   "pygments_lexer": "ipython3",
   "version": "3.11.5"
  }
 },
 "nbformat": 4,
 "nbformat_minor": 5
}
